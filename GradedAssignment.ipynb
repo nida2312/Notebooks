{
    "cells": [
        {
            "metadata": {
                "collapsed": true
            },
            "cell_type": "markdown",
            "source": "# My Jupyter Notebook on IBM Watson Studio"
        },
        {
            "metadata": {},
            "cell_type": "markdown",
            "source": "**NAME : NIDA QURESHI**\nCURRENT OCCUPATION : STUDENT\nDESIRED OCCUPATION : DATA SCIENTIST\n"
        },
        {
            "metadata": {},
            "cell_type": "markdown",
            "source": "_ _I am interested in data science because I've studied number of subjects in my engineering course, the one field which aroused a sense of curiosity in me was data. I was only introduced to data base management system in the beginning which made me search for more about data related careers. That's when I got introduced to Data Science. I wanted to work with data and this field tends to give more opportunities to work and experiment with it."
        },
        {
            "metadata": {},
            "cell_type": "markdown",
            "source": "### The code in below cell will print text in a for loop"
        },
        {
            "metadata": {},
            "cell_type": "code",
            "source": "for i in range(10):\n    print(\"This is coursera's graded assignment task\")",
            "execution_count": 5,
            "outputs": [
                {
                    "output_type": "stream",
                    "text": "This is coursera's graded assignment task\nThis is coursera's graded assignment task\nThis is coursera's graded assignment task\nThis is coursera's graded assignment task\nThis is coursera's graded assignment task\nThis is coursera's graded assignment task\nThis is coursera's graded assignment task\nThis is coursera's graded assignment task\nThis is coursera's graded assignment task\nThis is coursera's graded assignment task\n",
                    "name": "stdout"
                }
            ]
        },
        {
            "metadata": {},
            "cell_type": "code",
            "source": "![This is an image]('https://myoctocat.com/assets/images/base-octocat.svg')",
            "execution_count": 7,
            "outputs": [
                {
                    "output_type": "stream",
                    "text": "/usr/bin/sh: -c: line 0: syntax error near unexpected token `('\r\n/usr/bin/sh: -c: line 0: `[This is an image]('https://myoctocat.com/assets/images/base-octocat.svg')'\r\n",
                    "name": "stdout"
                }
            ]
        },
        {
            "metadata": {},
            "cell_type": "markdown",
            "source": "<picture>\n  <source media=\"(prefers-color-scheme: dark)\" srcset=\"https://naruto.fandom.com/wiki/Naruto_Uzumaki.png\">\n  <img alt=\"Shows an illustrated sun in light color mode and a moon with stars in dark color mode.\" src=\"https://user-images.githubusercontent.com/25423296/163456779-a8556205-d0a5-45e2-ac17-42d089e3c3f8.png\">\n</picture>"
        },
        {
            "metadata": {},
            "cell_type": "markdown",
            "source": "| Stretch/Untouched | ProbDistribution | Accuracy |\n| :- | -: | :-: |\n| Stretched | Gaussian | .843\n| untouched | Gaussian | .679"
        },
        {
            "metadata": {},
            "cell_type": "markdown",
            "source": "~~Strike Through~~ Strike through"
        },
        {
            "metadata": {},
            "cell_type": "code",
            "source": "",
            "execution_count": null,
            "outputs": []
        }
    ],
    "metadata": {
        "kernelspec": {
            "name": "python3",
            "display_name": "Python 3.9",
            "language": "python"
        },
        "language_info": {
            "name": "python",
            "version": "3.9.12",
            "mimetype": "text/x-python",
            "codemirror_mode": {
                "name": "ipython",
                "version": 3
            },
            "pygments_lexer": "ipython3",
            "nbconvert_exporter": "python",
            "file_extension": ".py"
        }
    },
    "nbformat": 4,
    "nbformat_minor": 1
}